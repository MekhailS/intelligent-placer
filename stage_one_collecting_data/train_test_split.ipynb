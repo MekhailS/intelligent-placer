{
 "cells": [
  {
   "cell_type": "code",
   "execution_count": 3,
   "metadata": {
    "collapsed": true
   },
   "outputs": [],
   "source": [
    "import json\n",
    "import pandas\n",
    "import pandas as pd\n",
    "from sklearn.model_selection import train_test_split"
   ]
  },
  {
   "cell_type": "code",
   "execution_count": 6,
   "outputs": [
    {
     "data": {
      "text/plain": "          id              name  \\\n0    6323476          wing_big   \n1    6323476          wing_big   \n2    6323476          wing_big   \n3    6323476          wing_big   \n4    6323476          wing_big   \n..       ...               ...   \n718  6271584  7x1plate_w_holes   \n719  6271584  7x1plate_w_holes   \n720  6271584  7x1plate_w_holes   \n721  6271584  7x1plate_w_holes   \n722  6271584  7x1plate_w_holes   \n\n                                          image_path additional_info  \\\n0              ../data/images/1_6323476_wing_big.png                   \n1              ../data/images/2_6323476_wing_big.png                   \n2              ../data/images/3_6323476_wing_big.png                   \n3              ../data/images/4_6323476_wing_big.png                   \n4              ../data/images/5_6323476_wing_big.png                   \n..                                               ...             ...   \n718  ../data/images/756_6271584_7x1plate_w_holes.png                   \n719  ../data/images/757_6271584_7x1plate_w_holes.png                   \n720  ../data/images/758_6271584_7x1plate_w_holes.png                   \n721  ../data/images/759_6271584_7x1plate_w_holes.png                   \n722  ../data/images/760_6271584_7x1plate_w_holes.png                   \n\n     numerated_id                                          crop_path  \n0               6           ../data/crop/crop_1_6323476_wing_big.png  \n1               6           ../data/crop/crop_2_6323476_wing_big.png  \n2               6           ../data/crop/crop_3_6323476_wing_big.png  \n3               6           ../data/crop/crop_4_6323476_wing_big.png  \n4               6           ../data/crop/crop_5_6323476_wing_big.png  \n..            ...                                                ...  \n718             9  ../data/crop/crop_756_6271584_7x1plate_w_holes...  \n719             9  ../data/crop/crop_757_6271584_7x1plate_w_holes...  \n720             9  ../data/crop/crop_758_6271584_7x1plate_w_holes...  \n721             9  ../data/crop/crop_759_6271584_7x1plate_w_holes...  \n722             9  ../data/crop/crop_760_6271584_7x1plate_w_holes...  \n\n[723 rows x 6 columns]",
      "text/html": "<div>\n<style scoped>\n    .dataframe tbody tr th:only-of-type {\n        vertical-align: middle;\n    }\n\n    .dataframe tbody tr th {\n        vertical-align: top;\n    }\n\n    .dataframe thead th {\n        text-align: right;\n    }\n</style>\n<table border=\"1\" class=\"dataframe\">\n  <thead>\n    <tr style=\"text-align: right;\">\n      <th></th>\n      <th>id</th>\n      <th>name</th>\n      <th>image_path</th>\n      <th>additional_info</th>\n      <th>numerated_id</th>\n      <th>crop_path</th>\n    </tr>\n  </thead>\n  <tbody>\n    <tr>\n      <th>0</th>\n      <td>6323476</td>\n      <td>wing_big</td>\n      <td>../data/images/1_6323476_wing_big.png</td>\n      <td></td>\n      <td>6</td>\n      <td>../data/crop/crop_1_6323476_wing_big.png</td>\n    </tr>\n    <tr>\n      <th>1</th>\n      <td>6323476</td>\n      <td>wing_big</td>\n      <td>../data/images/2_6323476_wing_big.png</td>\n      <td></td>\n      <td>6</td>\n      <td>../data/crop/crop_2_6323476_wing_big.png</td>\n    </tr>\n    <tr>\n      <th>2</th>\n      <td>6323476</td>\n      <td>wing_big</td>\n      <td>../data/images/3_6323476_wing_big.png</td>\n      <td></td>\n      <td>6</td>\n      <td>../data/crop/crop_3_6323476_wing_big.png</td>\n    </tr>\n    <tr>\n      <th>3</th>\n      <td>6323476</td>\n      <td>wing_big</td>\n      <td>../data/images/4_6323476_wing_big.png</td>\n      <td></td>\n      <td>6</td>\n      <td>../data/crop/crop_4_6323476_wing_big.png</td>\n    </tr>\n    <tr>\n      <th>4</th>\n      <td>6323476</td>\n      <td>wing_big</td>\n      <td>../data/images/5_6323476_wing_big.png</td>\n      <td></td>\n      <td>6</td>\n      <td>../data/crop/crop_5_6323476_wing_big.png</td>\n    </tr>\n    <tr>\n      <th>...</th>\n      <td>...</td>\n      <td>...</td>\n      <td>...</td>\n      <td>...</td>\n      <td>...</td>\n      <td>...</td>\n    </tr>\n    <tr>\n      <th>718</th>\n      <td>6271584</td>\n      <td>7x1plate_w_holes</td>\n      <td>../data/images/756_6271584_7x1plate_w_holes.png</td>\n      <td></td>\n      <td>9</td>\n      <td>../data/crop/crop_756_6271584_7x1plate_w_holes...</td>\n    </tr>\n    <tr>\n      <th>719</th>\n      <td>6271584</td>\n      <td>7x1plate_w_holes</td>\n      <td>../data/images/757_6271584_7x1plate_w_holes.png</td>\n      <td></td>\n      <td>9</td>\n      <td>../data/crop/crop_757_6271584_7x1plate_w_holes...</td>\n    </tr>\n    <tr>\n      <th>720</th>\n      <td>6271584</td>\n      <td>7x1plate_w_holes</td>\n      <td>../data/images/758_6271584_7x1plate_w_holes.png</td>\n      <td></td>\n      <td>9</td>\n      <td>../data/crop/crop_758_6271584_7x1plate_w_holes...</td>\n    </tr>\n    <tr>\n      <th>721</th>\n      <td>6271584</td>\n      <td>7x1plate_w_holes</td>\n      <td>../data/images/759_6271584_7x1plate_w_holes.png</td>\n      <td></td>\n      <td>9</td>\n      <td>../data/crop/crop_759_6271584_7x1plate_w_holes...</td>\n    </tr>\n    <tr>\n      <th>722</th>\n      <td>6271584</td>\n      <td>7x1plate_w_holes</td>\n      <td>../data/images/760_6271584_7x1plate_w_holes.png</td>\n      <td></td>\n      <td>9</td>\n      <td>../data/crop/crop_760_6271584_7x1plate_w_holes...</td>\n    </tr>\n  </tbody>\n</table>\n<p>723 rows × 6 columns</p>\n</div>"
     },
     "execution_count": 6,
     "metadata": {},
     "output_type": "execute_result"
    }
   ],
   "source": [
    "with open(\"../data/description/data_with_crops.json\", \"r\") as f:\n",
    "  data_json = json.load(f)\n",
    "\n",
    "df = pd.DataFrame(data_json[\"captures\"])\n",
    "df"
   ],
   "metadata": {
    "collapsed": false,
    "pycharm": {
     "name": "#%%\n"
    }
   }
  },
  {
   "cell_type": "code",
   "execution_count": 10,
   "outputs": [],
   "source": [
    "df_train, df_test = train_test_split(df, test_size=0.3, stratify=df[\"numerated_id\"], shuffle=True)"
   ],
   "metadata": {
    "collapsed": false,
    "pycharm": {
     "name": "#%%\n"
    }
   }
  },
  {
   "cell_type": "code",
   "execution_count": 11,
   "outputs": [
    {
     "data": {
      "text/plain": "          id       name                                image_path  \\\n557  6130009        rod        ../data/images/595_6130009_rod.png   \n436   300224   3x2brick    ../data/images/474_300224_3x2brick.png   \n112  6224075        guy        ../data/images/134_6224075_guy.png   \n152  6224075        guy        ../data/images/174_6224075_guy.png   \n440   300224   3x2brick    ../data/images/478_300224_3x2brick.png   \n..       ...        ...                                       ...   \n222  6285534    chassis    ../data/images/253_6285534_chassis.png   \n81   6055123  propeller  ../data/images/100_6055123_propeller.png   \n139  6224075        guy        ../data/images/161_6224075_guy.png   \n115  6224075        guy        ../data/images/137_6224075_guy.png   \n463   300224   3x2brick    ../data/images/501_300224_3x2brick.png   \n\n    additional_info  numerated_id                                    crop_path  \n557                             5        ../data/crop/crop_595_6130009_rod.png  \n436                             7    ../data/crop/crop_474_300224_3x2brick.png  \n112                             2        ../data/crop/crop_134_6224075_guy.png  \n152                             2        ../data/crop/crop_174_6224075_guy.png  \n440                             7    ../data/crop/crop_478_300224_3x2brick.png  \n..              ...           ...                                          ...  \n222                             1    ../data/crop/crop_253_6285534_chassis.png  \n81                              3  ../data/crop/crop_100_6055123_propeller.png  \n139                             2        ../data/crop/crop_161_6224075_guy.png  \n115                             2        ../data/crop/crop_137_6224075_guy.png  \n463                             7    ../data/crop/crop_501_300224_3x2brick.png  \n\n[506 rows x 6 columns]",
      "text/html": "<div>\n<style scoped>\n    .dataframe tbody tr th:only-of-type {\n        vertical-align: middle;\n    }\n\n    .dataframe tbody tr th {\n        vertical-align: top;\n    }\n\n    .dataframe thead th {\n        text-align: right;\n    }\n</style>\n<table border=\"1\" class=\"dataframe\">\n  <thead>\n    <tr style=\"text-align: right;\">\n      <th></th>\n      <th>id</th>\n      <th>name</th>\n      <th>image_path</th>\n      <th>additional_info</th>\n      <th>numerated_id</th>\n      <th>crop_path</th>\n    </tr>\n  </thead>\n  <tbody>\n    <tr>\n      <th>557</th>\n      <td>6130009</td>\n      <td>rod</td>\n      <td>../data/images/595_6130009_rod.png</td>\n      <td></td>\n      <td>5</td>\n      <td>../data/crop/crop_595_6130009_rod.png</td>\n    </tr>\n    <tr>\n      <th>436</th>\n      <td>300224</td>\n      <td>3x2brick</td>\n      <td>../data/images/474_300224_3x2brick.png</td>\n      <td></td>\n      <td>7</td>\n      <td>../data/crop/crop_474_300224_3x2brick.png</td>\n    </tr>\n    <tr>\n      <th>112</th>\n      <td>6224075</td>\n      <td>guy</td>\n      <td>../data/images/134_6224075_guy.png</td>\n      <td></td>\n      <td>2</td>\n      <td>../data/crop/crop_134_6224075_guy.png</td>\n    </tr>\n    <tr>\n      <th>152</th>\n      <td>6224075</td>\n      <td>guy</td>\n      <td>../data/images/174_6224075_guy.png</td>\n      <td></td>\n      <td>2</td>\n      <td>../data/crop/crop_174_6224075_guy.png</td>\n    </tr>\n    <tr>\n      <th>440</th>\n      <td>300224</td>\n      <td>3x2brick</td>\n      <td>../data/images/478_300224_3x2brick.png</td>\n      <td></td>\n      <td>7</td>\n      <td>../data/crop/crop_478_300224_3x2brick.png</td>\n    </tr>\n    <tr>\n      <th>...</th>\n      <td>...</td>\n      <td>...</td>\n      <td>...</td>\n      <td>...</td>\n      <td>...</td>\n      <td>...</td>\n    </tr>\n    <tr>\n      <th>222</th>\n      <td>6285534</td>\n      <td>chassis</td>\n      <td>../data/images/253_6285534_chassis.png</td>\n      <td></td>\n      <td>1</td>\n      <td>../data/crop/crop_253_6285534_chassis.png</td>\n    </tr>\n    <tr>\n      <th>81</th>\n      <td>6055123</td>\n      <td>propeller</td>\n      <td>../data/images/100_6055123_propeller.png</td>\n      <td></td>\n      <td>3</td>\n      <td>../data/crop/crop_100_6055123_propeller.png</td>\n    </tr>\n    <tr>\n      <th>139</th>\n      <td>6224075</td>\n      <td>guy</td>\n      <td>../data/images/161_6224075_guy.png</td>\n      <td></td>\n      <td>2</td>\n      <td>../data/crop/crop_161_6224075_guy.png</td>\n    </tr>\n    <tr>\n      <th>115</th>\n      <td>6224075</td>\n      <td>guy</td>\n      <td>../data/images/137_6224075_guy.png</td>\n      <td></td>\n      <td>2</td>\n      <td>../data/crop/crop_137_6224075_guy.png</td>\n    </tr>\n    <tr>\n      <th>463</th>\n      <td>300224</td>\n      <td>3x2brick</td>\n      <td>../data/images/501_300224_3x2brick.png</td>\n      <td></td>\n      <td>7</td>\n      <td>../data/crop/crop_501_300224_3x2brick.png</td>\n    </tr>\n  </tbody>\n</table>\n<p>506 rows × 6 columns</p>\n</div>"
     },
     "execution_count": 11,
     "metadata": {},
     "output_type": "execute_result"
    }
   ],
   "source": [
    "df_train"
   ],
   "metadata": {
    "collapsed": false,
    "pycharm": {
     "name": "#%%\n"
    }
   }
  },
  {
   "cell_type": "code",
   "execution_count": 12,
   "outputs": [
    {
     "data": {
      "text/plain": "          id             name                                      image_path  \\\n195  6285534          chassis          ../data/images/221_6285534_chassis.png   \n50   6323476         wing_big          ../data/images/67_6323476_wing_big.png   \n9    6323476         wing_big          ../data/images/11_6323476_wing_big.png   \n408   300224         3x2brick          ../data/images/446_300224_3x2brick.png   \n252  6285534          chassis          ../data/images/287_6285534_chassis.png   \n..       ...              ...                                             ...   \n18   6323476         wing_big          ../data/images/22_6323476_wing_big.png   \n138  6224075              guy              ../data/images/160_6224075_guy.png   \n525  6329156  4x4smooth_plate  ../data/images/563_6329156_4x4smooth_plate.png   \n143  6224075              guy              ../data/images/165_6224075_guy.png   \n407   300224         3x2brick          ../data/images/445_300224_3x2brick.png   \n\n    additional_info  numerated_id  \\\n195                             1   \n50                              6   \n9                               6   \n408                             7   \n252                             1   \n..              ...           ...   \n18                              6   \n138                             2   \n525                             0   \n143                             2   \n407                             7   \n\n                                             crop_path  \n195          ../data/crop/crop_221_6285534_chassis.png  \n50           ../data/crop/crop_67_6323476_wing_big.png  \n9            ../data/crop/crop_11_6323476_wing_big.png  \n408          ../data/crop/crop_446_300224_3x2brick.png  \n252          ../data/crop/crop_287_6285534_chassis.png  \n..                                                 ...  \n18           ../data/crop/crop_22_6323476_wing_big.png  \n138              ../data/crop/crop_160_6224075_guy.png  \n525  ../data/crop/crop_563_6329156_4x4smooth_plate.png  \n143              ../data/crop/crop_165_6224075_guy.png  \n407          ../data/crop/crop_445_300224_3x2brick.png  \n\n[217 rows x 6 columns]",
      "text/html": "<div>\n<style scoped>\n    .dataframe tbody tr th:only-of-type {\n        vertical-align: middle;\n    }\n\n    .dataframe tbody tr th {\n        vertical-align: top;\n    }\n\n    .dataframe thead th {\n        text-align: right;\n    }\n</style>\n<table border=\"1\" class=\"dataframe\">\n  <thead>\n    <tr style=\"text-align: right;\">\n      <th></th>\n      <th>id</th>\n      <th>name</th>\n      <th>image_path</th>\n      <th>additional_info</th>\n      <th>numerated_id</th>\n      <th>crop_path</th>\n    </tr>\n  </thead>\n  <tbody>\n    <tr>\n      <th>195</th>\n      <td>6285534</td>\n      <td>chassis</td>\n      <td>../data/images/221_6285534_chassis.png</td>\n      <td></td>\n      <td>1</td>\n      <td>../data/crop/crop_221_6285534_chassis.png</td>\n    </tr>\n    <tr>\n      <th>50</th>\n      <td>6323476</td>\n      <td>wing_big</td>\n      <td>../data/images/67_6323476_wing_big.png</td>\n      <td></td>\n      <td>6</td>\n      <td>../data/crop/crop_67_6323476_wing_big.png</td>\n    </tr>\n    <tr>\n      <th>9</th>\n      <td>6323476</td>\n      <td>wing_big</td>\n      <td>../data/images/11_6323476_wing_big.png</td>\n      <td></td>\n      <td>6</td>\n      <td>../data/crop/crop_11_6323476_wing_big.png</td>\n    </tr>\n    <tr>\n      <th>408</th>\n      <td>300224</td>\n      <td>3x2brick</td>\n      <td>../data/images/446_300224_3x2brick.png</td>\n      <td></td>\n      <td>7</td>\n      <td>../data/crop/crop_446_300224_3x2brick.png</td>\n    </tr>\n    <tr>\n      <th>252</th>\n      <td>6285534</td>\n      <td>chassis</td>\n      <td>../data/images/287_6285534_chassis.png</td>\n      <td></td>\n      <td>1</td>\n      <td>../data/crop/crop_287_6285534_chassis.png</td>\n    </tr>\n    <tr>\n      <th>...</th>\n      <td>...</td>\n      <td>...</td>\n      <td>...</td>\n      <td>...</td>\n      <td>...</td>\n      <td>...</td>\n    </tr>\n    <tr>\n      <th>18</th>\n      <td>6323476</td>\n      <td>wing_big</td>\n      <td>../data/images/22_6323476_wing_big.png</td>\n      <td></td>\n      <td>6</td>\n      <td>../data/crop/crop_22_6323476_wing_big.png</td>\n    </tr>\n    <tr>\n      <th>138</th>\n      <td>6224075</td>\n      <td>guy</td>\n      <td>../data/images/160_6224075_guy.png</td>\n      <td></td>\n      <td>2</td>\n      <td>../data/crop/crop_160_6224075_guy.png</td>\n    </tr>\n    <tr>\n      <th>525</th>\n      <td>6329156</td>\n      <td>4x4smooth_plate</td>\n      <td>../data/images/563_6329156_4x4smooth_plate.png</td>\n      <td></td>\n      <td>0</td>\n      <td>../data/crop/crop_563_6329156_4x4smooth_plate.png</td>\n    </tr>\n    <tr>\n      <th>143</th>\n      <td>6224075</td>\n      <td>guy</td>\n      <td>../data/images/165_6224075_guy.png</td>\n      <td></td>\n      <td>2</td>\n      <td>../data/crop/crop_165_6224075_guy.png</td>\n    </tr>\n    <tr>\n      <th>407</th>\n      <td>300224</td>\n      <td>3x2brick</td>\n      <td>../data/images/445_300224_3x2brick.png</td>\n      <td></td>\n      <td>7</td>\n      <td>../data/crop/crop_445_300224_3x2brick.png</td>\n    </tr>\n  </tbody>\n</table>\n<p>217 rows × 6 columns</p>\n</div>"
     },
     "execution_count": 12,
     "metadata": {},
     "output_type": "execute_result"
    }
   ],
   "source": [
    "df_test"
   ],
   "metadata": {
    "collapsed": false,
    "pycharm": {
     "name": "#%%\n"
    }
   }
  },
  {
   "cell_type": "code",
   "execution_count": 14,
   "outputs": [],
   "source": [
    "df_train.to_csv(\"../data/description/train.csv\", index=False)\n",
    "df_test.to_csv(\"../data/description/test.csv\", index=False)"
   ],
   "metadata": {
    "collapsed": false,
    "pycharm": {
     "name": "#%%\n"
    }
   }
  },
  {
   "cell_type": "code",
   "execution_count": null,
   "outputs": [],
   "source": [],
   "metadata": {
    "collapsed": false,
    "pycharm": {
     "name": "#%%\n"
    }
   }
  }
 ],
 "metadata": {
  "kernelspec": {
   "display_name": "Python 3",
   "language": "python",
   "name": "python3"
  },
  "language_info": {
   "codemirror_mode": {
    "name": "ipython",
    "version": 2
   },
   "file_extension": ".py",
   "mimetype": "text/x-python",
   "name": "python",
   "nbconvert_exporter": "python",
   "pygments_lexer": "ipython2",
   "version": "2.7.6"
  }
 },
 "nbformat": 4,
 "nbformat_minor": 0
}